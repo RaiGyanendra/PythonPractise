{
 "cells": [
  {
   "cell_type": "markdown",
   "id": "ffa2cfcc-2cf3-4b9b-92fc-2153930717e9",
   "metadata": {},
   "source": [
    "Q1. Create a python program to sort the given list of tuples based on integer value using a\n",
    "lambda function.\n",
    "\n",
    "[('Sachin Tendulkar', 34357), ('Ricky Ponting', 27483), ('Jack Kallis', 25534), ('Virat Kohli', 24936)]"
   ]
  },
  {
   "cell_type": "code",
   "execution_count": 1,
   "id": "b53def72-50eb-42b6-ac6b-5b7b592d869d",
   "metadata": {},
   "outputs": [
    {
     "name": "stdout",
     "output_type": "stream",
     "text": [
      "[('Sachin Tendulkar', 34357), ('Ricky Ponting', 27483), ('Jack Kallis', 25534), ('Virat Kohli', 24936)]\n"
     ]
    }
   ],
   "source": [
    "l = [('Virat Kohli', 24936),('Sachin Tendulkar', 34357),('Jack Kallis', 25534), ('Ricky Ponting', 27483)]\n",
    "find_max = lambda x,y: x if x[1]>y[1] else y\n",
    "sorted_list = []\n",
    "while len(l) >0:\n",
    "    max = l[0]\n",
    "    for i in range(len(l)):\n",
    "        max = find_max(max,l[i])\n",
    "    sorted_list.append(max)\n",
    "    l.remove(max)\n",
    "\n",
    "print(sorted_list)"
   ]
  },
  {
   "cell_type": "markdown",
   "id": "ab3db5c1-a409-46fc-8ea3-69842e197193",
   "metadata": {},
   "source": [
    "Q2. Write a Python Program to find the squares of all the numbers in the given list of integers using\n",
    "lambda and map functions.\n",
    "[1, 2, 3, 4, 5, 6, 7, 8, 9, 10]"
   ]
  },
  {
   "cell_type": "code",
   "execution_count": 3,
   "id": "3c60afb2-43dc-4ee9-9d9d-ab71c059f283",
   "metadata": {},
   "outputs": [
    {
     "name": "stdout",
     "output_type": "stream",
     "text": [
      "[1, 4, 9, 16, 25, 36, 49, 64, 81, 100]\n"
     ]
    }
   ],
   "source": [
    "square_func = lambda x: x**2\n",
    "l = [1,2,3,4,5,6,7,8,9,10]\n",
    "l_square = map(square_func,l)\n",
    "print(list(l_square))"
   ]
  },
  {
   "cell_type": "markdown",
   "id": "c52a8b7d-4bbc-494d-be5d-bb9f6b080e70",
   "metadata": {},
   "source": [
    "Q3. Write a python program to convert the given list of integers into a tuple of strings. Use map and\n",
    "lambda functions\n",
    "\n",
    "Given String: [1, 2, 3, 4, 5, 6, 7, 8, 9, 10]\n",
    "Expected output: ('1', '2', '3', '4', '5', '6', '7', '8', '9', '10')"
   ]
  },
  {
   "cell_type": "code",
   "execution_count": 4,
   "id": "8aaffa75-d79e-43bd-b3f1-933687fd9252",
   "metadata": {},
   "outputs": [
    {
     "name": "stdout",
     "output_type": "stream",
     "text": [
      "('1', '2', '3', '4', '5', '6', '7', '8', '9', '10')\n"
     ]
    }
   ],
   "source": [
    "given_list = [1,2,3,4,5,6,7,8,9,10]\n",
    "print(tuple(map(lambda x:str(x), given_list)))"
   ]
  },
  {
   "cell_type": "markdown",
   "id": "cf286e28-2a1c-4d60-a491-d4a54b5e5e90",
   "metadata": {},
   "source": [
    "Q4. Write a python program using reduce function to compute the product of a list containing numbers\n",
    "from 1 to 25."
   ]
  },
  {
   "cell_type": "code",
   "execution_count": 9,
   "id": "a9aee64a-6399-47a4-95cf-6bff9b287bfc",
   "metadata": {},
   "outputs": [
    {
     "data": {
      "text/plain": [
       "15511210043330985984000000"
      ]
     },
     "execution_count": 9,
     "metadata": {},
     "output_type": "execute_result"
    }
   ],
   "source": [
    "from functools import reduce\n",
    "given_list = [i for i in range(1,26)]\n",
    "reduce(lambda x,y: x*y,given_list)"
   ]
  },
  {
   "cell_type": "markdown",
   "id": "e2902663-7c32-49a0-b17e-a5fb1528fa97",
   "metadata": {},
   "source": [
    "Q5. Write a python program to filter the numbers in a given list that are divisible by 2 and 3 using the\n",
    "filter function.\n",
    "\n",
    "[2, 3, 6, 9, 27, 60, 90, 120, 55, 46]"
   ]
  },
  {
   "cell_type": "code",
   "execution_count": 13,
   "id": "9394c716-fe68-4740-81d7-d32e8d1b8076",
   "metadata": {},
   "outputs": [
    {
     "data": {
      "text/plain": [
       "[6, 60, 90, 120]"
      ]
     },
     "execution_count": 13,
     "metadata": {},
     "output_type": "execute_result"
    }
   ],
   "source": [
    "l = [2, 3, 6, 9, 27, 60, 90, 120, 55, 46]\n",
    "my_function = lambda x :x%6 == 0\n",
    "list(filter(my_function, l))"
   ]
  },
  {
   "cell_type": "markdown",
   "id": "64dc605f-8bee-4d3a-b296-b983ea7f85fd",
   "metadata": {},
   "source": [
    "Q6. Write a python program to find palindromes in the given list of strings using lambda and filter\n",
    "function.\n",
    "\n",
    "['python', 'php', 'aba', 'radar', 'level']"
   ]
  },
  {
   "cell_type": "code",
   "execution_count": 20,
   "id": "8a20fc7b-854c-4e4c-a769-7857c92d023f",
   "metadata": {},
   "outputs": [],
   "source": [
    "given_list = ['python', 'php', 'aba', 'radar', 'level']\n",
    "palindrome_list = list(filter(lambda x: x==x[-1::-1],given_list))"
   ]
  },
  {
   "cell_type": "code",
   "execution_count": 22,
   "id": "40214aa1-6a32-405e-aaca-f3a2b9db0f5f",
   "metadata": {},
   "outputs": [
    {
     "name": "stdout",
     "output_type": "stream",
     "text": [
      "php\n",
      "aba\n",
      "radar\n",
      "level\n"
     ]
    }
   ],
   "source": [
    "for word in palindrome_list:\n",
    "    print(word)"
   ]
  }
 ],
 "metadata": {
  "kernelspec": {
   "display_name": "Python 3 (ipykernel)",
   "language": "python",
   "name": "python3"
  },
  "language_info": {
   "codemirror_mode": {
    "name": "ipython",
    "version": 3
   },
   "file_extension": ".py",
   "mimetype": "text/x-python",
   "name": "python",
   "nbconvert_exporter": "python",
   "pygments_lexer": "ipython3",
   "version": "3.10.8"
  }
 },
 "nbformat": 4,
 "nbformat_minor": 5
}
