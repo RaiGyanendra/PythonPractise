{
 "cells": [
  {
   "cell_type": "markdown",
   "id": "f26baeb1-614d-4e3a-b2ba-866e98da57d1",
   "metadata": {},
   "source": [
    "We basically use commenting to give information about the code flow and its logic so that later we can comeback and \n",
    "understand it. It is also helpful to someone else who is trying to understand the code. "
   ]
  },
  {
   "cell_type": "markdown",
   "id": "977b7b0d-2b50-4561-bb27-486e94eed3f2",
   "metadata": {},
   "source": [
    "Single Line comments"
   ]
  },
  {
   "cell_type": "code",
   "execution_count": 1,
   "id": "fb0b3c99-e527-4665-a115-9c5bb126e383",
   "metadata": {},
   "outputs": [],
   "source": [
    "# This is just a comment. Don't take it as a line of code."
   ]
  },
  {
   "cell_type": "markdown",
   "id": "b362e010-98f7-4013-a87f-4b38bbcca01b",
   "metadata": {},
   "source": [
    "Multiple Line Comments"
   ]
  },
  {
   "cell_type": "code",
   "execution_count": 2,
   "id": "1d2e0151-e959-41e0-9a60-2922df1f457e",
   "metadata": {},
   "outputs": [],
   "source": [
    "# This is the first line\n",
    "# This is the second line \n",
    "# This is the third line"
   ]
  },
  {
   "cell_type": "markdown",
   "id": "b4627bef-f241-4b98-ab5f-c9888b19e521",
   "metadata": {},
   "source": [
    "Paragraph type comment"
   ]
  },
  {
   "cell_type": "code",
   "execution_count": 3,
   "id": "fd851c4f-821b-43d7-984d-2b8fbe3b5875",
   "metadata": {},
   "outputs": [
    {
     "data": {
      "text/plain": [
       "\" In this we can go on writing \\n    as we do in a paragraph. We\\n    don't have to worry about putting\\n    hash sign in each of the line.\\n    We just have to put triple quote sign \\n    at the begining and at the end \""
      ]
     },
     "execution_count": 3,
     "metadata": {},
     "output_type": "execute_result"
    }
   ],
   "source": [
    "\"\"\" In this we can go on writing \n",
    "    as we do in a paragraph. We\n",
    "    don't have to worry about putting\n",
    "    hash sign in each of the line.\n",
    "    We just have to put triple quote sign \n",
    "    at the begining and at the end \"\"\""
   ]
  },
  {
   "cell_type": "markdown",
   "id": "5788d3cb-dee6-4d51-b4b6-a128ca9183e5",
   "metadata": {},
   "source": [
    "In Python variables are basically name reference that are used to call any data that is stored in them. \n",
    "In Python, we need not declare a variable with some specific data type.\n",
    "Python has no command for declaring a variable. A variable is created when some value is assigned to it. The value assigned to a variable determines the data type of that variable.\n",
    "Thus, declaring a variable in Python is very simple.\n",
    "Just name the variable\n",
    "Assign the required value to it\n",
    "The data type of the variable will be automatically determined from the value assigned, we need not define it explicitly."
   ]
  },
  {
   "cell_type": "markdown",
   "id": "1804f645-a3a6-4bc7-9b8e-8ab646863b2a",
   "metadata": {},
   "source": [
    "In Python we can change one datatype to another with the help of typecasting. For example some of the typecasting function are \n",
    "int(), float(), str(), list(), set() etc."
   ]
  },
  {
   "cell_type": "markdown",
   "id": "29e959f5-c8da-4d24-adfb-807d8f8b0d59",
   "metadata": {},
   "source": [
    " The following steps are used to run a python script from command Line\n",
    " 1. Verify your terminal or command prompt can run Python\n",
    " 2. Create a Python script that is error-free\n",
    " 3. Use python your/file/name.py to run your script from the terminal"
   ]
  },
  {
   "cell_type": "code",
   "execution_count": 1,
   "id": "61fcadd3-3928-459f-af19-9d8ea6b61095",
   "metadata": {},
   "outputs": [
    {
     "name": "stdout",
     "output_type": "stream",
     "text": [
      "[2, 3]\n"
     ]
    }
   ],
   "source": [
    "my_list = [1,2,3,4,5]\n",
    "sub_list = my_list[1:3]\n",
    "print(sub_list)"
   ]
  },
  {
   "cell_type": "markdown",
   "id": "2eff2867-8571-403d-8eca-fbb4885eb7ee",
   "metadata": {},
   "source": [
    "Complex number is defined in mathematics is something which has both real number and imaginary number. It is represented as\n",
    "a+ib, where a is the real part and b is the imaginary part.\n",
    "In python complex number is written as a+bj, where a is the real part and b is the imaginary part."
   ]
  },
  {
   "cell_type": "code",
   "execution_count": 7,
   "id": "14b4b569-16bc-457c-9d7f-fbabd382caaf",
   "metadata": {},
   "outputs": [
    {
     "name": "stdout",
     "output_type": "stream",
     "text": [
      "7.0\n",
      "8.0\n"
     ]
    }
   ],
   "source": [
    "num = 7+8j\n",
    "print(num.real)\n",
    "print(num.imag)"
   ]
  },
  {
   "cell_type": "markdown",
   "id": "b7caff23-5db3-425a-9b6b-b5014d2877c8",
   "metadata": {},
   "source": [
    "Declaring a variable named age and assigning a value 25 to it."
   ]
  },
  {
   "cell_type": "code",
   "execution_count": 9,
   "id": "0c321d9b-dd72-4d2b-bc47-d3c85caed882",
   "metadata": {},
   "outputs": [],
   "source": [
    "age = 25"
   ]
  },
  {
   "cell_type": "code",
   "execution_count": 10,
   "id": "1c7d407e-0d3e-467d-b6f9-9df93911120d",
   "metadata": {},
   "outputs": [
    {
     "data": {
      "text/plain": [
       "float"
      ]
     },
     "execution_count": 10,
     "metadata": {},
     "output_type": "execute_result"
    }
   ],
   "source": [
    "price = 9.99\n",
    "type(price)"
   ]
  },
  {
   "cell_type": "code",
   "execution_count": 12,
   "id": "08605365-b770-4ee7-a541-351a9ecd041a",
   "metadata": {},
   "outputs": [
    {
     "name": "stdout",
     "output_type": "stream",
     "text": [
      "Gyanendra Rai\n"
     ]
    }
   ],
   "source": [
    "name = \"Gyanendra Rai\"\n",
    "print(name)"
   ]
  },
  {
   "cell_type": "code",
   "execution_count": 13,
   "id": "cde52f3b-c45d-408b-af66-3b8efbcec420",
   "metadata": {},
   "outputs": [
    {
     "name": "stdout",
     "output_type": "stream",
     "text": [
      "World\n"
     ]
    }
   ],
   "source": [
    "s = \"Hello World!\"\n",
    "ss = s[6:11]\n",
    "print(ss)"
   ]
  },
  {
   "cell_type": "code",
   "execution_count": null,
   "id": "54a0d28b-9764-4495-84c6-d0f97907034c",
   "metadata": {},
   "outputs": [],
   "source": [
    "is_student = False\n",
    "pri"
   ]
  }
 ],
 "metadata": {
  "kernelspec": {
   "display_name": "Python 3 (ipykernel)",
   "language": "python",
   "name": "python3"
  },
  "language_info": {
   "codemirror_mode": {
    "name": "ipython",
    "version": 3
   },
   "file_extension": ".py",
   "mimetype": "text/x-python",
   "name": "python",
   "nbconvert_exporter": "python",
   "pygments_lexer": "ipython3",
   "version": "3.10.8"
  }
 },
 "nbformat": 4,
 "nbformat_minor": 5
}
