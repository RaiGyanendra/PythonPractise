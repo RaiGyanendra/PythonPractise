{
 "cells": [
  {
   "cell_type": "code",
   "execution_count": 1,
   "id": "f5411a33-8d29-46d9-ad89-eebac9a3c532",
   "metadata": {},
   "outputs": [],
   "source": [
    "s = \"string\"\n",
    "l = [1,2,3,\"string\",\"cat\",4.4]\n",
    "f = 4.5\n",
    "t = (3,\"element\",4.5)"
   ]
  },
  {
   "cell_type": "code",
   "execution_count": 3,
   "id": "404ab683-8d80-4730-9906-44d184e889fe",
   "metadata": {},
   "outputs": [
    {
     "data": {
      "text/plain": [
       "str"
      ]
     },
     "execution_count": 3,
     "metadata": {},
     "output_type": "execute_result"
    }
   ],
   "source": [
    "var1 = '' # under double quote thus it will be string\"\n",
    "type(var1)"
   ]
  },
  {
   "cell_type": "code",
   "execution_count": 5,
   "id": "29d81044-1a79-49fb-9186-9cfabad1689b",
   "metadata": {},
   "outputs": [
    {
     "data": {
      "text/plain": [
       "str"
      ]
     },
     "execution_count": 5,
     "metadata": {},
     "output_type": "execute_result"
    }
   ],
   "source": [
    "var2 = '[DS, ML, Python]' # under double quote thus it will be string\"\n",
    "type(var2)"
   ]
  },
  {
   "cell_type": "code",
   "execution_count": 6,
   "id": "625f6de0-c20c-403d-ac66-ba8185ade325",
   "metadata": {},
   "outputs": [
    {
     "data": {
      "text/plain": [
       "list"
      ]
     },
     "execution_count": 6,
     "metadata": {},
     "output_type": "execute_result"
    }
   ],
   "source": [
    "var3 = ['DS','ML','Python'] # elements are contained in square bracket thus it is a list\n",
    "type(var3)"
   ]
  },
  {
   "cell_type": "code",
   "execution_count": 7,
   "id": "0f6fff4e-7525-4a7f-adcb-fff93082c6f3",
   "metadata": {},
   "outputs": [
    {
     "data": {
      "text/plain": [
       "int"
      ]
     },
     "execution_count": 7,
     "metadata": {},
     "output_type": "execute_result"
    }
   ],
   "source": [
    "var4 = 1 # it is an integer\n",
    "type(var4)"
   ]
  },
  {
   "cell_type": "code",
   "execution_count": 8,
   "id": "25d2691a-8bd6-4f5e-af81-b32bdae1554b",
   "metadata": {},
   "outputs": [
    {
     "data": {
      "text/plain": [
       "2.5"
      ]
     },
     "execution_count": 8,
     "metadata": {},
     "output_type": "execute_result"
    }
   ],
   "source": [
    "5/2 # it is simple division operator"
   ]
  },
  {
   "cell_type": "code",
   "execution_count": 10,
   "id": "f10fd9e8-f821-421a-bf59-7ff330f523e3",
   "metadata": {},
   "outputs": [
    {
     "data": {
      "text/plain": [
       "1"
      ]
     },
     "execution_count": 10,
     "metadata": {},
     "output_type": "execute_result"
    }
   ],
   "source": [
    "5%2 # this operator divides the first by second and gives the remainder"
   ]
  },
  {
   "cell_type": "code",
   "execution_count": 11,
   "id": "e35e08ae-7f1c-4701-be00-524eaacf61b2",
   "metadata": {},
   "outputs": [
    {
     "data": {
      "text/plain": [
       "2"
      ]
     },
     "execution_count": 11,
     "metadata": {},
     "output_type": "execute_result"
    }
   ],
   "source": [
    "5//2 # This operator divides the first by second and returns the dividend"
   ]
  },
  {
   "cell_type": "code",
   "execution_count": 13,
   "id": "527227a4-df08-44b1-8e57-cdf639f7c8d6",
   "metadata": {},
   "outputs": [
    {
     "data": {
      "text/plain": [
       "25"
      ]
     },
     "execution_count": 13,
     "metadata": {},
     "output_type": "execute_result"
    }
   ],
   "source": [
    "5**2 # this operator raises fisrt element to the power of second element"
   ]
  },
  {
   "cell_type": "code",
   "execution_count": 15,
   "id": "cc6970fb-671d-4e49-86a6-1bb103846a81",
   "metadata": {},
   "outputs": [
    {
     "name": "stdout",
     "output_type": "stream",
     "text": [
      "10\n"
     ]
    }
   ],
   "source": [
    "my_list = [1,2.5,\"gyanendra\",[\"cat\",\"dog\"],(\"apple\",\"orange\"),{1,5,\"car\",\"finance\"},{\"name\":\"gyanendra\", \"education\":\"B.Tech\",\"Work\":\"Business Analyst\"}, 4.5, 6,9]\n",
    "print(len(my_list))"
   ]
  },
  {
   "cell_type": "code",
   "execution_count": 17,
   "id": "ba4862c4-47ee-49a1-9e22-5e93bd26aee0",
   "metadata": {},
   "outputs": [
    {
     "name": "stdout",
     "output_type": "stream",
     "text": [
      "1\n",
      "<class 'int'>\n",
      "2.5\n",
      "<class 'float'>\n",
      "gyanendra\n",
      "<class 'str'>\n",
      "['cat', 'dog']\n",
      "<class 'list'>\n",
      "('apple', 'orange')\n",
      "<class 'tuple'>\n",
      "{'finance', 1, 'car', 5}\n",
      "<class 'set'>\n",
      "{'name': 'gyanendra', 'education': 'B.Tech', 'Work': 'Business Analyst'}\n",
      "<class 'dict'>\n",
      "4.5\n",
      "<class 'float'>\n",
      "6\n",
      "<class 'int'>\n",
      "9\n",
      "<class 'int'>\n"
     ]
    }
   ],
   "source": [
    "for element in my_list:\n",
    "    print(element)\n",
    "    print(type(element))"
   ]
  },
  {
   "cell_type": "code",
   "execution_count": 25,
   "id": "be2ab5ae-b800-478b-a23b-4678ab9eafb9",
   "metadata": {},
   "outputs": [
    {
     "name": "stdin",
     "output_type": "stream",
     "text": [
      "Give the first number 25\n",
      "Give the second number 3\n"
     ]
    },
    {
     "name": "stdout",
     "output_type": "stream",
     "text": [
      "8\n"
     ]
    }
   ],
   "source": [
    "A = int(input(\"Give the first number\"))\n",
    "B = int(input(\"Give the second number\"))\n",
    "count = 0\n",
    "remainder = A\n",
    "if A % B == 0:\n",
    "    print(\"A is Divisble by B\")\n",
    "else:\n",
    "    while remainder >= B:\n",
    "        remainder = remainder-B\n",
    "        count+=1\n",
    "    print(count)"
   ]
  },
  {
   "cell_type": "code",
   "execution_count": 28,
   "id": "2e7d4ea7-18b8-4bd2-b5ba-ad3435be728c",
   "metadata": {},
   "outputs": [
    {
     "data": {
      "text/plain": [
       "25"
      ]
     },
     "execution_count": 28,
     "metadata": {},
     "output_type": "execute_result"
    }
   ],
   "source": [
    "L = [23,7,25,35,67,12,89,56,3,46,7,89,45,23,41,85,86,78,12,36,151,74,12,78,14]\n",
    "len(L)"
   ]
  },
  {
   "cell_type": "code",
   "execution_count": 29,
   "id": "45f62940-a60d-4a84-8f42-d72020cedfae",
   "metadata": {},
   "outputs": [
    {
     "name": "stdout",
     "output_type": "stream",
     "text": [
      "Not Divivsible\n",
      "Not Divivsible\n",
      "Not Divivsible\n",
      "Not Divivsible\n",
      "Not Divivsible\n",
      "Divisible\n",
      "Not Divivsible\n",
      "Not Divivsible\n",
      "Divisible\n",
      "Not Divivsible\n",
      "Not Divivsible\n",
      "Not Divivsible\n",
      "Divisible\n",
      "Not Divivsible\n",
      "Not Divivsible\n",
      "Not Divivsible\n",
      "Not Divivsible\n",
      "Divisible\n",
      "Divisible\n",
      "Divisible\n",
      "Not Divivsible\n",
      "Not Divivsible\n",
      "Divisible\n",
      "Divisible\n",
      "Not Divivsible\n"
     ]
    }
   ],
   "source": [
    "for item in L:\n",
    "    if item % 3 == 0:\n",
    "        print(\"Divisible\")\n",
    "    else:\n",
    "        print(\"Not Divivsible\")\n",
    "    "
   ]
  },
  {
   "cell_type": "code",
   "execution_count": 32,
   "id": "37181278-521f-4061-bc41-14d62d6e5d96",
   "metadata": {},
   "outputs": [
    {
     "data": {
      "text/plain": [
       "[23, 'shyam', 34, 21, 'mango']"
      ]
     },
     "execution_count": 32,
     "metadata": {},
     "output_type": "execute_result"
    }
   ],
   "source": [
    "list1 = [23,\"ramesh\",34,21,\"mango\"]\n",
    "list1[1] = \"shyam\" # by this step we were able to mutate the list at a particular index\n",
    "list1"
   ]
  },
  {
   "cell_type": "code",
   "execution_count": null,
   "id": "cdb3f485-81b0-4b97-a53a-796f22a8871d",
   "metadata": {},
   "outputs": [],
   "source": [
    "tuple1 = (23,\"ramesh\",34,21,\"mango\")\n",
    "tuple1[1] = \"shyam\" # This step will give error because we can not change an element at any index in case of a tuple\n",
    "                    # "
   ]
  }
 ],
 "metadata": {
  "kernelspec": {
   "display_name": "Python 3 (ipykernel)",
   "language": "python",
   "name": "python3"
  },
  "language_info": {
   "codemirror_mode": {
    "name": "ipython",
    "version": 3
   },
   "file_extension": ".py",
   "mimetype": "text/x-python",
   "name": "python",
   "nbconvert_exporter": "python",
   "pygments_lexer": "ipython3",
   "version": "3.10.8"
  }
 },
 "nbformat": 4,
 "nbformat_minor": 5
}
