{
 "cells": [
  {
   "cell_type": "markdown",
   "id": "594e7bd4-c9bb-4acf-bec9-ad40ec75dd22",
   "metadata": {},
   "source": [
    "Q1. Which keyword is used to create a function? Create a function to return a list of odd numbers in the\n",
    "range of 1 to 25."
   ]
  },
  {
   "cell_type": "markdown",
   "id": "c959e7c9-e95d-4db1-9d98-49f608bbd4d7",
   "metadata": {},
   "source": [
    "Ans. def keyword is used to create a function."
   ]
  },
  {
   "cell_type": "code",
   "execution_count": 1,
   "id": "b6206a9a-41e7-4ed1-9480-9ec8b83745ce",
   "metadata": {},
   "outputs": [
    {
     "data": {
      "text/plain": [
       "[1, 3, 5, 7, 9, 11, 13, 15, 17, 19, 21, 23, 25]"
      ]
     },
     "execution_count": 1,
     "metadata": {},
     "output_type": "execute_result"
    }
   ],
   "source": [
    "l = [i for i in range(1,26)]\n",
    "def find_odd(l):\n",
    "    l1=[]\n",
    "    for item in l:\n",
    "        if item%2 != 0:\n",
    "            l1.append(item)\n",
    "    return l1\n",
    "find_odd(l)"
   ]
  },
  {
   "cell_type": "markdown",
   "id": "b4fe4612-4072-4832-8198-a160c8f6a88a",
   "metadata": {},
   "source": [
    "Q2. Why *args and **kwargs is used in some functions? Create a function each for *args and **kwargs\n",
    "to demonstrate their use."
   ]
  },
  {
   "cell_type": "markdown",
   "id": "e5af6e9e-253c-4824-a7ef-be551eb3f85d",
   "metadata": {},
   "source": [
    "Ans. In Python, we can pass a variable number of arguments to a function using special symbols. There are two special symbols:\n",
    "\n",
    "    1. *args (Non Keyword Arguments)\n",
    "    2. **kwargs (Keyword Arguments)\n",
    "    We use *args and **kwargs as an argument when we are unsure about the number of arguments to pass in the functions."
   ]
  },
  {
   "cell_type": "code",
   "execution_count": 2,
   "id": "ed137cb7-f9a4-4ca4-bf33-2806384fccb1",
   "metadata": {},
   "outputs": [
    {
     "name": "stdout",
     "output_type": "stream",
     "text": [
      "8\n",
      "22\n",
      "17\n"
     ]
    }
   ],
   "source": [
    "def adder(*elements):\n",
    "    sum = 0\n",
    "    \n",
    "    for n in elements:\n",
    "        sum = sum + n\n",
    "    return sum\n",
    "print(adder(3,5))\n",
    "print(adder(4,5,6,7))\n",
    "print(adder(1,2,3,5,6))"
   ]
  },
  {
   "cell_type": "code",
   "execution_count": 3,
   "id": "807ec8db-e211-4f04-9636-033d555d3665",
   "metadata": {},
   "outputs": [
    {
     "name": "stdout",
     "output_type": "stream",
     "text": [
      "The Firstname is Sita\n",
      "The Lastname is Sharma\n",
      "The Age is 22\n",
      "The Phone is 1234567890\n"
     ]
    }
   ],
   "source": [
    "def intro(**data):\n",
    "    for key in data:\n",
    "        print(f\"The {key} is {data[key]}\")\n",
    "        \n",
    "\n",
    "intro(Firstname=\"Sita\", Lastname=\"Sharma\", Age=22, Phone=1234567890)\n"
   ]
  },
  {
   "cell_type": "markdown",
   "id": "78de12cc-263f-45d1-9a5e-8439d10b0b0f",
   "metadata": {},
   "source": [
    "Q3. What is an iterator in python? Name the method used to initialise the iterator object and the method\n",
    "used for iteration. Use these methods to print the first five elements of the given list [2, 4, 6, 8, 10, 12, 14,\n",
    "16, 18, 20]."
   ]
  },
  {
   "cell_type": "markdown",
   "id": "6daf0dc3-ac80-4c63-bbdc-fa0a9d5c9149",
   "metadata": {},
   "source": [
    "Ans. An iterator in Python is an object that contains a countable number of elements that can be iterated upon. In simpler words, we can say     that Iterators are objects that allow you to traverse through all the elements of a collection and return one element at a time.\n",
    "\n",
    "    iter() is used to convert an iterable to an iterator.\n",
    "    next() is used to traverse through the iterator object."
   ]
  },
  {
   "cell_type": "code",
   "execution_count": 4,
   "id": "ab3f21c0-1827-43ea-bc2e-04cf57134da5",
   "metadata": {},
   "outputs": [
    {
     "name": "stdout",
     "output_type": "stream",
     "text": [
      "2\n",
      "4\n",
      "6\n",
      "8\n",
      "10\n"
     ]
    }
   ],
   "source": [
    "l = [2,4,6,8,10,12,14,16,18,20]\n",
    "l1=iter(l)\n",
    "count=0\n",
    "while count < 5:\n",
    "    print(next(l1))\n",
    "    count+=1"
   ]
  },
  {
   "cell_type": "markdown",
   "id": "920264e2-ddd0-40ed-b4fb-b66d39bfed8a",
   "metadata": {},
   "source": [
    "Q4. What is a generator function in python? Why yield keyword is used? Give an example of a generator\n",
    "function."
   ]
  },
  {
   "cell_type": "markdown",
   "id": "17a84589-fdba-4921-bde1-1a1805d4164a",
   "metadata": {},
   "source": [
    "Ans. In Python, a generator is a function that returns an iterator that produces a sequence of values when iterated over. Generators are          useful when we want to produce a large sequence of values, but we don't want to store all of them in memory at once.\n",
    "\n",
    "    yield is the keyword that is used to create a generator function."
   ]
  },
  {
   "cell_type": "code",
   "execution_count": 5,
   "id": "89ee29a8-79ae-49cf-a10e-d36111542361",
   "metadata": {},
   "outputs": [],
   "source": [
    "def gen_func(n):\n",
    "    value = 0\n",
    "    while value < n:\n",
    "        yield value\n",
    "        value+=1\n"
   ]
  },
  {
   "cell_type": "code",
   "execution_count": 6,
   "id": "957d4720-42f1-4ce1-970f-8c8c632bad1a",
   "metadata": {},
   "outputs": [
    {
     "name": "stdout",
     "output_type": "stream",
     "text": [
      "0\n",
      "1\n",
      "2\n",
      "3\n",
      "4\n",
      "5\n",
      "6\n",
      "7\n",
      "8\n",
      "9\n"
     ]
    }
   ],
   "source": [
    "for element in gen_func(10):\n",
    "    print(element)"
   ]
  },
  {
   "cell_type": "code",
   "execution_count": 8,
   "id": "b3f9e141-ddee-4c22-9f52-ad6956e4f77a",
   "metadata": {},
   "outputs": [],
   "source": [
    "def is_prime(v):\n",
    "    factors = []\n",
    "    for i in range(1,v+1):\n",
    "        if v%i == 0:\n",
    "            factors.append(i)\n",
    "    if factors == [1,v]:\n",
    "        return True\n",
    "    else:\n",
    "        return False\n",
    "\n",
    "def prime_generator():\n",
    "    n = 1\n",
    "    while True:\n",
    "        n += 1\n",
    "        if is_prime(n):\n",
    "            yield n"
   ]
  },
  {
   "cell_type": "code",
   "execution_count": null,
   "id": "8ebf4b59-ba0a-422d-8090-f4af01146526",
   "metadata": {},
   "outputs": [],
   "source": [
    "for i in range(10):\n",
    "    print(next(prime_generator()))"
   ]
  },
  {
   "cell_type": "code",
   "execution_count": 13,
   "id": "7665845a-2a90-47db-b2c6-8b370d7631a1",
   "metadata": {},
   "outputs": [
    {
     "data": {
      "text/plain": [
       "True"
      ]
     },
     "execution_count": 13,
     "metadata": {},
     "output_type": "execute_result"
    }
   ],
   "source": [
    "is_prime(5)"
   ]
  },
  {
   "cell_type": "markdown",
   "id": "6198da43-f599-4d8e-a432-e329ea000397",
   "metadata": {},
   "source": [
    "Q6. Write a python program to print the first 10 Fibonacci numbers using a while loop."
   ]
  },
  {
   "cell_type": "code",
   "execution_count": 1,
   "id": "4eb01129-6e20-45aa-8f0d-450a8b007889",
   "metadata": {},
   "outputs": [
    {
     "name": "stdout",
     "output_type": "stream",
     "text": [
      "0\n",
      "1\n",
      "1\n",
      "2\n",
      "3\n",
      "5\n",
      "8\n",
      "13\n",
      "21\n",
      "34\n",
      "55\n"
     ]
    }
   ],
   "source": [
    "a = 0\n",
    "b = 1\n",
    "count = 0\n",
    "while count < 10:\n",
    "    count += 1\n",
    "    if count == 1:\n",
    "        print(a)\n",
    "    if count == 2:\n",
    "        print(b)\n",
    "    else:\n",
    "        print(a+b)\n",
    "        c = b\n",
    "        b = a+b\n",
    "        a = c\n",
    "    \n",
    "    "
   ]
  },
  {
   "cell_type": "markdown",
   "id": "edb0d148-98ec-4667-9777-25dc03a0e1dc",
   "metadata": {},
   "source": [
    "Q7. Write a List Comprehension to iterate through the given string: ‘pwskills’.\n",
    "Expected output: ['p', 'w', 's', 'k', 'i', 'l', 'l', 's']"
   ]
  },
  {
   "cell_type": "code",
   "execution_count": 3,
   "id": "11ee88e6-045f-4d03-9351-b10601810472",
   "metadata": {},
   "outputs": [],
   "source": [
    "l = [i for i in \"pwskills\"]"
   ]
  },
  {
   "cell_type": "code",
   "execution_count": 4,
   "id": "459239e9-29d7-4925-b530-d67a9ca2986d",
   "metadata": {},
   "outputs": [
    {
     "data": {
      "text/plain": [
       "['p', 'w', 's', 'k', 'i', 'l', 'l', 's']"
      ]
     },
     "execution_count": 4,
     "metadata": {},
     "output_type": "execute_result"
    }
   ],
   "source": [
    "l"
   ]
  },
  {
   "cell_type": "markdown",
   "id": "d1c51dca-9ae5-42ba-a60e-abaf04320ca3",
   "metadata": {},
   "source": [
    "Q8. Write a python program to check whether a given number is Palindrome or not using a while loop."
   ]
  },
  {
   "cell_type": "code",
   "execution_count": 33,
   "id": "405c5282-503d-40b4-9641-4c931a4fe969",
   "metadata": {},
   "outputs": [
    {
     "name": "stdin",
     "output_type": "stream",
     "text": [
      " 451154\n"
     ]
    },
    {
     "name": "stdout",
     "output_type": "stream",
     "text": [
      "Palindrome\n"
     ]
    }
   ],
   "source": [
    "given = input()\n",
    "number = int(given)\n",
    "reverse = \"\"\n",
    "while number > 0:\n",
    "    remain = number%10\n",
    "    number = number//10\n",
    "    reverse = reverse + str(remain)\n",
    "\n",
    "if given == reverse:\n",
    "    print (\"Palindrome\")\n",
    "else:\n",
    "    print(\"Not Palindrome\")"
   ]
  },
  {
   "cell_type": "markdown",
   "id": "02578854-7434-495a-b6f6-76dc433643cb",
   "metadata": {},
   "source": [
    "Q9. Write a code to print odd numbers from 1 to 100 using list comprehension."
   ]
  },
  {
   "cell_type": "code",
   "execution_count": 30,
   "id": "7724dab5-2657-4635-be5d-42c39af43766",
   "metadata": {},
   "outputs": [],
   "source": [
    "l = [x for x in range(1,101) if x%2 != 0]"
   ]
  },
  {
   "cell_type": "code",
   "execution_count": 31,
   "id": "a3cca808-d0e9-4e23-9885-a15bd7950909",
   "metadata": {},
   "outputs": [
    {
     "name": "stdout",
     "output_type": "stream",
     "text": [
      "[1, 3, 5, 7, 9, 11, 13, 15, 17, 19, 21, 23, 25, 27, 29, 31, 33, 35, 37, 39, 41, 43, 45, 47, 49, 51, 53, 55, 57, 59, 61, 63, 65, 67, 69, 71, 73, 75, 77, 79, 81, 83, 85, 87, 89, 91, 93, 95, 97, 99]\n"
     ]
    }
   ],
   "source": [
    "print(l)"
   ]
  },
  {
   "cell_type": "code",
   "execution_count": null,
   "id": "c9394c17-8ec7-47c8-bdd1-e5fd6c58f37e",
   "metadata": {},
   "outputs": [],
   "source": []
  }
 ],
 "metadata": {
  "kernelspec": {
   "display_name": "Python 3 (ipykernel)",
   "language": "python",
   "name": "python3"
  },
  "language_info": {
   "codemirror_mode": {
    "name": "ipython",
    "version": 3
   },
   "file_extension": ".py",
   "mimetype": "text/x-python",
   "name": "python",
   "nbconvert_exporter": "python",
   "pygments_lexer": "ipython3",
   "version": "3.10.8"
  }
 },
 "nbformat": 4,
 "nbformat_minor": 5
}
