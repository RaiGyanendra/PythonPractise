{
 "cells": [
  {
   "cell_type": "markdown",
   "id": "7bba2119-7c72-4dad-9b13-eb5894c0bb6f",
   "metadata": {},
   "source": [
    "Q1. Explain Class and Object with respect to Object-Oriented Programming. Give a suitable example."
   ]
  },
  {
   "cell_type": "markdown",
   "id": "0eab3f31-8d00-4694-ab77-5dce64c6317b",
   "metadata": {},
   "source": [
    "A class is considered as a blueprint of objects. We can think of the class as a sketch (prototype) of a house. It contains all the details about the floors, doors, windows, etc. Based on these descriptions we build the house. House is the object."
   ]
  },
  {
   "cell_type": "markdown",
   "id": "415060bd-c30e-40a2-957a-4d87b4667307",
   "metadata": {},
   "source": [
    "An object is called an instance of a class. As many houses can be made from the same description, we can create many objects from a class. "
   ]
  },
  {
   "cell_type": "markdown",
   "id": "b0d04104-31da-4695-85dc-a9b85152f136",
   "metadata": {},
   "source": [
    "Q2. Name the four pillars of OOPs."
   ]
  },
  {
   "cell_type": "markdown",
   "id": "a213d76f-89f0-42a8-aa1c-f0cb9476bfea",
   "metadata": {},
   "source": [
    "There are fpour pillars of OOPs\n",
    "1. Encapsulation\n",
    "2. Inheritance\n",
    "3. Polymorphism\n",
    "4. Abstraction"
   ]
  },
  {
   "cell_type": "markdown",
   "id": "84b60492-8e7a-4f67-833c-91027d258ad8",
   "metadata": {},
   "source": [
    "Encapsulation helps in making the some of the variables inside a class hidden from the user. This is done\n",
    "when we don't want some of the variables to be modified by user at random."
   ]
  },
  {
   "cell_type": "markdown",
   "id": "f24042fc-6d6e-4331-935e-839c43f3dab3",
   "metadata": {},
   "source": [
    "Inheritance is the process in which two classes have a relationship with each other, and objects of one class acquire properties and features of the other class. The class which inherits the features is known as the child class, and the class whose features it inherited is called the parent class"
   ]
  },
  {
   "cell_type": "markdown",
   "id": "86a12b1c-434d-4d10-ad1b-23e45cb796e4",
   "metadata": {},
   "source": [
    "Polymorphism means having many forms. It is the ability to take more than one form. It is a feature that provides a function or an operator with more than one definition. This allows one object to have different behaviours depending upon the context.\n"
   ]
  },
  {
   "cell_type": "markdown",
   "id": "7ab2b6a0-2c03-44f9-b2de-4dbfa347d4a7",
   "metadata": {},
   "source": [
    "Abstraction means displaying only basic information and hiding the details.This is basically used for preparing blue print or skeleton of a code. It can also be quite  useful in delegating your work regarding some portion of the overall code."
   ]
  },
  {
   "cell_type": "markdown",
   "id": "83c2006c-c777-4205-80d3-280342ded299",
   "metadata": {},
   "source": [
    "Q3. Explain why the __init__() function is used. Give a suitable example."
   ]
  },
  {
   "cell_type": "markdown",
   "id": "8440cd79-c118-4215-814e-ae5ae624927d",
   "metadata": {},
   "source": [
    "The __init__() function is used in Python to initialize the attributes or properties of an object when it is created from a class. It is a special method, also known as a constructor, that gets called automatically when an instance of a class is created."
   ]
  },
  {
   "cell_type": "code",
   "execution_count": 1,
   "id": "698cf325-663a-44f3-90d2-d02a2ae9b999",
   "metadata": {},
   "outputs": [
    {
     "name": "stdout",
     "output_type": "stream",
     "text": [
      "Buddy is 3 years old.\n",
      "Buddy says woof!\n",
      "Max is 5 years old.\n",
      "Max says woof!\n"
     ]
    }
   ],
   "source": [
    "class Dog:\n",
    "    def __init__(self, name, age):\n",
    "        self.name = name\n",
    "        self.age = age\n",
    "\n",
    "    def bark(self):\n",
    "        print(f\"{self.name} says woof!\")\n",
    "\n",
    "# Creating instances of the Dog class\n",
    "dog1 = Dog(\"Buddy\", 3)\n",
    "dog2 = Dog(\"Max\", 5)\n",
    "\n",
    "# Accessing attributes and methods of the instances\n",
    "print(f\"{dog1.name} is {dog1.age} years old.\")\n",
    "dog1.bark()\n",
    "\n",
    "print(f\"{dog2.name} is {dog2.age} years old.\")\n",
    "dog2.bark()\n"
   ]
  },
  {
   "cell_type": "markdown",
   "id": "9dcd3a75-417d-4a06-bb55-892e9fb6224c",
   "metadata": {},
   "source": [
    "Q4. Why self is used in OOPs?"
   ]
  },
  {
   "cell_type": "markdown",
   "id": "6aa5f58b-a1e6-40a6-ba49-7b12f83a473c",
   "metadata": {},
   "source": [
    "In object-oriented programming (OOP), the self keyword is used to refer to the instance of a class within the class itself. It is a convention in Python to use self as the first parameter in instance method definitions, although you can technically choose any name for it (but self is strongly recommended for clarity and convention)."
   ]
  },
  {
   "cell_type": "markdown",
   "id": "c4f0f343-d3e2-47b0-a89b-d3ec82de7fbc",
   "metadata": {},
   "source": [
    "Inheritance is one of the fundamental concepts in object-oriented programming (OOP). It allows you to create a new class that is a modified version of an existing class. Inheritance enables you to define a new class (called the subclass or derived class) based on an existing class (called the superclass or base class). The subclass inherits the attributes and behaviors (attributes and methods) of the superclass, and it can also add its own attributes and methods or override the inherited ones."
   ]
  },
  {
   "cell_type": "markdown",
   "id": "9b4e8266-8d30-44cb-bb84-22287b70c80a",
   "metadata": {},
   "source": [
    "1. Single Inheritance: In single inheritance, a subclass inherits from a single superclass. This is the simplest form of inheritance.In this example, the Dog class inherits from the Animal class, and it overrides the speak() method to provide its own implementation"
   ]
  },
  {
   "cell_type": "code",
   "execution_count": 3,
   "id": "beba80cf-98b0-4bad-a332-15a62cb26b71",
   "metadata": {},
   "outputs": [
    {
     "name": "stdout",
     "output_type": "stream",
     "text": [
      "Woof!\n"
     ]
    }
   ],
   "source": [
    "class Animal:\n",
    "    def speak(self):\n",
    "        pass\n",
    "\n",
    "class Dog(Animal):\n",
    "    def speak(self):\n",
    "        return \"Woof!\"\n",
    "\n",
    "dog = Dog()\n",
    "print(dog.speak())\n"
   ]
  },
  {
   "cell_type": "markdown",
   "id": "f2d4f67b-23d8-4a60-9adc-92afb2960292",
   "metadata": {},
   "source": [
    "2. Multiple Inheritance: In multiple inheritance, a subclass can inherit from multiple superclasses. This allows the subclass to inherit attributes and methods from multiple sources."
   ]
  },
  {
   "cell_type": "code",
   "execution_count": 4,
   "id": "a9b39724-e29a-48c4-a42b-a694f957449e",
   "metadata": {},
   "outputs": [
    {
     "name": "stdout",
     "output_type": "stream",
     "text": [
      "Flying\n",
      "Swimming\n"
     ]
    }
   ],
   "source": [
    "class Flyable:\n",
    "    def fly(self):\n",
    "        return \"Flying\"\n",
    "\n",
    "class Swimmer:\n",
    "    def swim(self):\n",
    "        return \"Swimming\"\n",
    "\n",
    "class Duck(Flyable, Swimmer):\n",
    "    pass\n",
    "\n",
    "duck = Duck()\n",
    "print(duck.fly())  \n",
    "print(duck.swim())\n"
   ]
  },
  {
   "cell_type": "markdown",
   "id": "cb72dab9-811a-49db-8b24-75422b543deb",
   "metadata": {},
   "source": [
    "3. Multilevel Inheritance: In multilevel inheritance, a class inherits from another class, which in turn may inherit from another class. It creates a chain of inheritance.In this example, the Puppy class inherits from the Dog class, which, in turn, inherits from the Animal class. The Puppy class overrides methods from both the Dog and Animal classes."
   ]
  },
  {
   "cell_type": "code",
   "execution_count": 5,
   "id": "f8e06130-4ec9-4845-b458-b29b8ef3f017",
   "metadata": {},
   "outputs": [
    {
     "name": "stdout",
     "output_type": "stream",
     "text": [
      "Yip!\n"
     ]
    }
   ],
   "source": [
    "class Animal:\n",
    "    def speak(self):\n",
    "        pass\n",
    "\n",
    "class Dog(Animal):\n",
    "    def speak(self):\n",
    "        return \"Woof!\"\n",
    "\n",
    "class Puppy(Dog):\n",
    "    def speak(self):\n",
    "        return \"Yip!\"\n",
    "\n",
    "puppy = Puppy()\n",
    "print(puppy.speak())  \n"
   ]
  },
  {
   "cell_type": "markdown",
   "id": "8fa59082-4661-47c3-befe-b1b218b9f7b3",
   "metadata": {},
   "source": [
    "4. Hierarchical Inheritance: In hierarchical inheritance, multiple subclasses inherit from a single superclass.In this example, both the Dog and Cat classes inherit from the common Animal superclass. They each provide their own implementation of the speak() method."
   ]
  },
  {
   "cell_type": "code",
   "execution_count": 6,
   "id": "d3ce3ee3-89bb-4876-a1b1-88ef66a57eb0",
   "metadata": {},
   "outputs": [
    {
     "name": "stdout",
     "output_type": "stream",
     "text": [
      "Woof!\n",
      "Meow!\n"
     ]
    }
   ],
   "source": [
    "class Animal:\n",
    "    def speak(self):\n",
    "        pass\n",
    "\n",
    "class Dog(Animal):\n",
    "    def speak(self):\n",
    "        return \"Woof!\"\n",
    "\n",
    "class Cat(Animal):\n",
    "    def speak(self):\n",
    "        return \"Meow!\"\n",
    "\n",
    "dog = Dog()\n",
    "cat = Cat()\n",
    "print(dog.speak())  \n",
    "print(cat.speak())  \n"
   ]
  },
  {
   "cell_type": "code",
   "execution_count": null,
   "id": "de670a04-327b-4cba-a048-b77b05783397",
   "metadata": {},
   "outputs": [],
   "source": []
  }
 ],
 "metadata": {
  "kernelspec": {
   "display_name": "Python 3 (ipykernel)",
   "language": "python",
   "name": "python3"
  },
  "language_info": {
   "codemirror_mode": {
    "name": "ipython",
    "version": 3
   },
   "file_extension": ".py",
   "mimetype": "text/x-python",
   "name": "python",
   "nbconvert_exporter": "python",
   "pygments_lexer": "ipython3",
   "version": "3.10.8"
  }
 },
 "nbformat": 4,
 "nbformat_minor": 5
}
