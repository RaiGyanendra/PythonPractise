{
 "cells": [
  {
   "cell_type": "markdown",
   "id": "4ea73f6c-0ac8-4a33-bc48-37b057073fa8",
   "metadata": {},
   "source": [
    "Q1. What is Abstraction in OOps? Explain with an example."
   ]
  },
  {
   "cell_type": "markdown",
   "id": "642c3d53-3023-4894-87d0-33f83d49b1ea",
   "metadata": {},
   "source": [
    "Abstraction is one of the core principles of object-oriented programming (OOP). It refers to the concept of simplifying complex reality by modeling classes based on the essential properties and behaviors of real-world entities while hiding unnecessary details. In simpler terms, abstraction allows you to focus on what an object does rather than how it does it. It provides a way to create abstract classes and methods that define a blueprint for other classes to follow."
   ]
  },
  {
   "cell_type": "code",
   "execution_count": 14,
   "id": "307664fa-1606-4a01-9d73-e46c999ffa13",
   "metadata": {},
   "outputs": [
    {
     "name": "stdout",
     "output_type": "stream",
     "text": [
      "The Red circle has an area of 78.5 and perimeter of 31.400000000000002.\n",
      "The Blue rectangle has an area of 24 and perimeter of 20.\n"
     ]
    }
   ],
   "source": [
    "# Abstract Shape class\n",
    "class Shape:\n",
    "    def __init__(self, color):\n",
    "        self.color = color\n",
    "\n",
    "    def area(self):\n",
    "        pass\n",
    "\n",
    "    def perimeter(self):\n",
    "        pass\n",
    "\n",
    "# Concrete Circle class\n",
    "class Circle(Shape):\n",
    "    def __init__(self, color, radius):\n",
    "        super().__init__(color)\n",
    "        self.radius = radius\n",
    "\n",
    "    def area(self):\n",
    "        return 3.14 * self.radius * self.radius\n",
    "\n",
    "    def perimeter(self):\n",
    "        return 2 * 3.14 * self.radius\n",
    "\n",
    "# Concrete Rectangle class\n",
    "class Rectangle(Shape):\n",
    "    def __init__(self, color, width, height):\n",
    "        super().__init__(color)\n",
    "        self.width = width\n",
    "        self.height = height\n",
    "\n",
    "    def area(self):\n",
    "        return self.width * self.height\n",
    "\n",
    "    def perimeter(self):\n",
    "        return 2 * (self.width + self.height)\n",
    "\n",
    "# Create instances of shapes\n",
    "circle = Circle(\"Red\", 5)\n",
    "rectangle = Rectangle(\"Blue\", 4, 6)\n",
    "\n",
    "# Accessing properties and methods\n",
    "print(f\"The {circle.color} circle has an area of {circle.area()} and perimeter of {circle.perimeter()}.\")\n",
    "print(f\"The {rectangle.color} rectangle has an area of {rectangle.area()} and perimeter of {rectangle.perimeter()}.\")\n"
   ]
  },
  {
   "cell_type": "markdown",
   "id": "878016d8-2842-4a0d-a45c-cb13e24f99b7",
   "metadata": {},
   "source": [
    "Q2. Differentiate between Abstraction and Encapsulation. Explain with an example."
   ]
  },
  {
   "cell_type": "markdown",
   "id": "53f1a3a1-6748-4ba5-a83a-cca5fc453e79",
   "metadata": {},
   "source": [
    "Abstraction focuses on what an object does, i.e., defining the essential characteristics and methods of an object, without specifying how it accomplishes those tasks.Abstraction is achieved through the use of abstract classes and methods. Abstract classes provide a blueprint for other classes to follow, and abstract methods are placeholders that must be implemented by concrete subclasses."
   ]
  },
  {
   "cell_type": "code",
   "execution_count": 15,
   "id": "d076fdc7-923b-4a3e-95aa-b39a2aef19a7",
   "metadata": {},
   "outputs": [],
   "source": [
    "class Shape:\n",
    "    def area(self):\n",
    "        pass\n",
    "\n",
    "class Circle(Shape):\n",
    "    def area(self):\n",
    "        return 3.14 * self.radius * self.radius\n",
    "\n",
    "class Rectangle(Shape):\n",
    "    def area(self):\n",
    "        return self.width * self.height\n"
   ]
  },
  {
   "cell_type": "markdown",
   "id": "5c93c590-7e3e-4cc2-aa32-74db9babfd2a",
   "metadata": {},
   "source": [
    "Encapsulation provides data hiding and abstraction by protecting the internal state of an object from direct external access. It allows controlled access to an object's attributes through methods (getters and setters), enabling validation and maintaining data integrity. Encapsulation is implemented by defining attributes as private or protected and providing public methods (getters and setters) to access and modify those attributes."
   ]
  },
  {
   "cell_type": "code",
   "execution_count": 16,
   "id": "10da31ab-e7fd-4bb5-a08d-f40fd5ed6818",
   "metadata": {},
   "outputs": [
    {
     "name": "stdout",
     "output_type": "stream",
     "text": [
      "25\n",
      "26\n"
     ]
    }
   ],
   "source": [
    "class Student:\n",
    "    def __init__(self, name, age):\n",
    "        self.__name = name  # Private attribute\n",
    "        self.__age = age    # Private attribute\n",
    "\n",
    "    def get_age(self):\n",
    "        return self.__age  # Getter method\n",
    "\n",
    "    def set_age(self, age):\n",
    "        if age >= 0:\n",
    "            self.__age = age  # Setter method\n",
    "\n",
    "student = Student(\"Alice\", 25)\n",
    "\n",
    "# Accessing and modifying attributes using encapsulation\n",
    "print(student.get_age())  \n",
    "student.set_age(26)\n",
    "print(student.get_age())  \n"
   ]
  },
  {
   "cell_type": "markdown",
   "id": "4923d88c-672e-474b-810a-893c2af82865",
   "metadata": {},
   "source": [
    "What is abc module in python? Why is it used?"
   ]
  },
  {
   "cell_type": "markdown",
   "id": "aaaae74d-30e4-40fd-84cb-27378669a69d",
   "metadata": {},
   "source": [
    "The abc module in Python stands for \"Abstract Base Classes.\" It is a built-in module that provides a mechanism for defining abstract base classes and abstract methods. Abstract base classes are classes that cannot be instantiated directly but serve as a blueprint for other classes. The abc module is used to enforce a specific structure and behavior in subclasses, making sure that certain methods must be implemented."
   ]
  },
  {
   "cell_type": "code",
   "execution_count": 17,
   "id": "1c7576e8-0d73-4408-9c6b-0d1e9957511b",
   "metadata": {},
   "outputs": [
    {
     "name": "stdout",
     "output_type": "stream",
     "text": [
      "Circle Area: 78.5\n",
      "Circle Perimeter: 31.400000000000002\n",
      "Rectangle Area: 24\n",
      "Rectangle Perimeter: 20\n"
     ]
    }
   ],
   "source": [
    "from abc import ABC, abstractmethod\n",
    "\n",
    "# Define an abstract base class\n",
    "class Shape(ABC):\n",
    "    @abstractmethod\n",
    "    def area(self):\n",
    "        pass\n",
    "\n",
    "    @abstractmethod\n",
    "    def perimeter(self):\n",
    "        pass\n",
    "\n",
    "# Create concrete subclasses\n",
    "class Circle(Shape):\n",
    "    def __init__(self, radius):\n",
    "        self.radius = radius\n",
    "\n",
    "    def area(self):\n",
    "        return 3.14 * self.radius * self.radius\n",
    "\n",
    "    def perimeter(self):\n",
    "        return 2 * 3.14 * self.radius\n",
    "\n",
    "class Rectangle(Shape):\n",
    "    def __init__(self, width, height):\n",
    "        self.width = width\n",
    "        self.height = height\n",
    "\n",
    "    def area(self):\n",
    "        return self.width * self.height\n",
    "\n",
    "    def perimeter(self):\n",
    "        return 2 * (self.width + self.height)\n",
    "\n",
    "# Attempt to create an instance of the abstract base class (will raise TypeError)\n",
    "#shape = Shape()  # Raises TypeError: Can't instantiate abstract class Shape with abstract methods area, perimeter\n",
    "\n",
    "# Create instances of concrete subclasses\n",
    "circle = Circle(5)\n",
    "rectangle = Rectangle(4, 6)\n",
    "\n",
    "# Access and use methods of concrete subclasses\n",
    "print(\"Circle Area:\", circle.area())        # Output: 78.5\n",
    "print(\"Circle Perimeter:\", circle.perimeter())  # Output: 31.4\n",
    "\n",
    "print(\"Rectangle Area:\", rectangle.area())        # Output: 24\n",
    "print(\"Rectangle Perimeter:\", rectangle.perimeter())  # Output: 20\n"
   ]
  },
  {
   "cell_type": "markdown",
   "id": "aee02969-258a-45aa-8b19-0bf654650ffd",
   "metadata": {},
   "source": [
    "Q4. How can we achieve data abstraction?"
   ]
  },
  {
   "cell_type": "markdown",
   "id": "faa30d18-5364-4ed0-a50e-c8e33a6f2b30",
   "metadata": {},
   "source": [
    "Data abstraction in programming is the concept of simplifying complex data structures by exposing only the necessary details and hiding the unnecessary complexity. It allows you to work with data at a higher level of abstraction, focusing on what data represents rather than how it is stored or processed."
   ]
  },
  {
   "cell_type": "code",
   "execution_count": 19,
   "id": "38aa2829-4f1a-44c6-9ef7-004ff2012d00",
   "metadata": {},
   "outputs": [
    {
     "name": "stdout",
     "output_type": "stream",
     "text": [
      "1000\n",
      "1200\n"
     ]
    }
   ],
   "source": [
    "class BankAccount:\n",
    "    def __init__(self, account_number, balance):\n",
    "        self.__account_number = account_number\n",
    "        self.__balance = balance\n",
    "\n",
    "    def get_balance(self):\n",
    "        print(self.__balance)\n",
    "        \n",
    "    def deposit(self, amount):\n",
    "        self.__balance += amount\n",
    "\n",
    "    def withdraw(self, amount):\n",
    "        if amount <= self.__balance:\n",
    "            self.__balance -= amount\n",
    "        else:\n",
    "            print(\"Insufficient balance\")\n",
    "\n",
    "# Usage\n",
    "account = BankAccount(\"12345\", 1000)\n",
    "account.get_balance()\n",
    "account.deposit(500)\n",
    "account.withdraw(300)\n",
    "account.get_balance()\n"
   ]
  },
  {
   "cell_type": "markdown",
   "id": "c47532eb-bf40-410d-be91-e872efdb3a4b",
   "metadata": {},
   "source": [
    "Q5. Can we create an instance of an abstract class? Explain your answer."
   ]
  },
  {
   "cell_type": "markdown",
   "id": "4ed65cc7-ae0b-41be-8959-752b96ce8ded",
   "metadata": {},
   "source": [
    "In Python, you cannot create an instance of an abstract class directly. Attempting to instantiate an abstract class will result in a TypeError. Abstract classes are meant to serve as blueprints or templates for other classes (concrete subclasses) to inherit from, and they typically contain one or more abstract methods, which are methods without a concrete implementation"
   ]
  },
  {
   "cell_type": "code",
   "execution_count": 20,
   "id": "9f41a2b2-3467-4b3c-b5fa-a42e37a6fccb",
   "metadata": {},
   "outputs": [
    {
     "ename": "TypeError",
     "evalue": "Can't instantiate abstract class Shape with abstract method area",
     "output_type": "error",
     "traceback": [
      "\u001b[0;31m---------------------------------------------------------------------------\u001b[0m",
      "\u001b[0;31mTypeError\u001b[0m                                 Traceback (most recent call last)",
      "Cell \u001b[0;32mIn[20], line 16\u001b[0m\n\u001b[1;32m     13\u001b[0m         \u001b[38;5;28;01mreturn\u001b[39;00m \u001b[38;5;241m3.14\u001b[39m \u001b[38;5;241m*\u001b[39m \u001b[38;5;28mself\u001b[39m\u001b[38;5;241m.\u001b[39mradius \u001b[38;5;241m*\u001b[39m \u001b[38;5;28mself\u001b[39m\u001b[38;5;241m.\u001b[39mradius\n\u001b[1;32m     15\u001b[0m \u001b[38;5;66;03m# Attempt to create an instance of the abstract class (will raise TypeError)\u001b[39;00m\n\u001b[0;32m---> 16\u001b[0m shape \u001b[38;5;241m=\u001b[39m \u001b[43mShape\u001b[49m\u001b[43m(\u001b[49m\u001b[43m)\u001b[49m  \u001b[38;5;66;03m# Raises TypeError: Can't instantiate abstract class Shape with abstract methods area\u001b[39;00m\n",
      "\u001b[0;31mTypeError\u001b[0m: Can't instantiate abstract class Shape with abstract method area"
     ]
    }
   ],
   "source": [
    "from abc import ABC, abstractmethod\n",
    "\n",
    "class Shape(ABC):\n",
    "    @abstractmethod\n",
    "    def area(self):\n",
    "        pass\n",
    "\n",
    "class Circle(Shape):\n",
    "    def __init__(self, radius):\n",
    "        self.radius = radius\n",
    "\n",
    "    def area(self):\n",
    "        return 3.14 * self.radius * self.radius\n",
    "\n",
    "# Attempt to create an instance of the abstract class (will raise TypeError)\n",
    "shape = Shape()  # Raises TypeError: Can't instantiate abstract class Shape with abstract methods area\n"
   ]
  },
  {
   "cell_type": "code",
   "execution_count": null,
   "id": "e1620027-9bba-401a-ab1d-3fdb210a685b",
   "metadata": {},
   "outputs": [],
   "source": []
  }
 ],
 "metadata": {
  "kernelspec": {
   "display_name": "Python 3 (ipykernel)",
   "language": "python",
   "name": "python3"
  },
  "language_info": {
   "codemirror_mode": {
    "name": "ipython",
    "version": 3
   },
   "file_extension": ".py",
   "mimetype": "text/x-python",
   "name": "python",
   "nbconvert_exporter": "python",
   "pygments_lexer": "ipython3",
   "version": "3.10.8"
  }
 },
 "nbformat": 4,
 "nbformat_minor": 5
}
